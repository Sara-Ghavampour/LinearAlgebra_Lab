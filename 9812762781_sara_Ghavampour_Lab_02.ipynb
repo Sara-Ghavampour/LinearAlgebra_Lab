{
  "cells": [
    {
      "cell_type": "markdown",
      "metadata": {
        "id": "view-in-github",
        "colab_type": "text"
      },
      "source": [
        "<a href=\"https://colab.research.google.com/github/sara1301/LinearAlgebra_Lab/blob/main/9812762781_sara_Ghavampour_Lab_02.ipynb\" target=\"_parent\"><img src=\"https://colab.research.google.com/assets/colab-badge.svg\" alt=\"Open In Colab\"/></a>"
      ]
    },
    {
      "cell_type": "markdown",
      "metadata": {
        "id": "wupa2TMwvoHd"
      },
      "source": [
        "# Applied Linear Algebra - Lab 2\n",
        "Ferdowsi University of Mashhad - Computer Engineering Department\n",
        "\n",
        "Fall 2021\n",
        "\n",
        "### Table of Contents\n",
        "\n",
        "* [Projection matrices and least squares](#sec1)\n",
        "    * [Exercise 1](#sec2)\n",
        "* [Solving the least squares equation via QR Decomposition](#sec3)\n",
        "    * [Exercise 2](#sec4)\n",
        "\n",
        "* [Predicting Medical Cost with Linear regression](#sec5)\n",
        "    * [Data Preprocessing](#sec5_1)\n",
        "    * [Model building](#sec5_2)\n",
        "    * [Training the Model](#sec5_3)\n",
        "        * [Exercise 3](#sec5_4)\n",
        "    * [Model Evaluation](#sec5_5)\n",
        "        * [Exercise 4](#sec5_6)\n",
        "* [Optional Excersice](#sec6)"
      ]
    },
    {
      "cell_type": "markdown",
      "metadata": {
        "id": "wUop4bdnvoHg"
      },
      "source": [
        "# Projection matrices and least squares <a class=\"anchor\" id=\"sec1\"></a>\n",
        "\n",
        "### Least square approximation\n",
        "A crucial application of least squares is fitting a straight line to $m$ points.\n",
        "\n",
        "Consider five points in the plane: \n",
        "\n",
        "$$ (x_i, y_{i}) = (1, 4), (2, 8), (4, 10) , (5, 12), (7, 18)$$\n",
        "\n",
        "- Find the closest line to these five points."
      ]
    },
    {
      "cell_type": "code",
      "execution_count": null,
      "metadata": {
        "id": "aAh9xLoevoHg"
      },
      "outputs": [],
      "source": [
        "import numpy as np\n",
        "import pandas as pd\n",
        "import matplotlib.pyplot as plt"
      ]
    },
    {
      "cell_type": "code",
      "execution_count": null,
      "metadata": {
        "colab": {
          "base_uri": "https://localhost:8080/",
          "height": 265
        },
        "id": "Xqxc5mlsvoHi",
        "outputId": "828778fb-935f-4abf-edec-464f126f7b63"
      },
      "outputs": [
        {
          "output_type": "display_data",
          "data": {
            "image/png": "[encoded data removed]",
            "text/plain": [
              "<Figure size 432x288 with 1 Axes>"
            ]
          },
          "metadata": {}
        }
      ],
      "source": [
        "x = np.array([[1], [2], [4], [5], [7]]) \n",
        "y = np.array([[4], [8], [10], [12], [18]]) \n",
        "plt.scatter(x, y)\n",
        "plt.show()"
      ]
    },
    {
      "cell_type": "markdown",
      "metadata": {
        "id": "Eglati2CvoHi"
      },
      "source": [
        "- No straight line $ y = \\theta_0 + \\theta_1 x  $ goes through these five points. \n",
        "- We are looking for numbers $\\theta_0$ and $\\theta_1 $that satisfy five equations:\n",
        "     \n",
        "$$ (x_1 = 1) \\;\\;\\;\\; y_1 = \\theta_0 + 1\\theta_1 = 4 $$\n",
        "     \n",
        "$$ (x_2 = 2) \\;\\;\\;\\; y_2 = \\theta_0 + 2\\theta_1 = 8 $$\n",
        "     \n",
        "$$ (x_3 = 4) \\;\\;\\;\\; y_3 = \\theta_0 + 4\\theta_1 = 10 $$\n",
        "\n",
        "$$ (x_4 = 5) \\;\\;\\;\\; y_4 = \\theta_0 + 5\\theta_1 = 12 $$\n",
        "\n",
        "$$ (x_5 = 7) \\;\\;\\;\\; y_5 = \\theta_0 + 7\\theta_1 = 18 $$\n",
        "    \n",
        "    \n",
        "- This 5 by 2 system has no solution, $ y = (4, 8, 10, 12, 18) $ is not a combination of the columns of $X$.\n",
        "\n",
        "$$X = \\begin {bmatrix} 1 & 1 \\\\ 1 & 2 \\\\ 1 & 4\\\\ 1 & 5 \\\\ 1 & 7  \\end{bmatrix} \\;\\;\\;\\; \\theta = \\begin {bmatrix} \\theta_0 \\\\ \\theta_1 \\end{bmatrix} \\;\\;\\;\\; y = \\begin {bmatrix} 4 \\\\ 8 \\\\ 10\\\\ 12 \\\\18 \\end{bmatrix} \\;\\;\\;\\; X \\theta = y \\;\\; \\text{is not solvable} $$\n",
        "\n"
      ]
    },
    {
      "cell_type": "markdown",
      "metadata": {
        "id": "K7oWM1KVvoHi"
      },
      "source": [
        "#### Minimizing the Error\n",
        "\n",
        "- Now that we cannot fit a line that goes through all five points, we try to find the best line $(\\hat{\\theta})$ for the five points and minimize the overall error, the error is \n",
        "    $ | e |^2 = | y - X\\hat{\\theta} |^2 $\n",
        "    \n",
        "- In order to minimize the error, we look for the closest point to $y$ that is in the column space of $X$, the nearest point is $p$ (the projection of $b$ into $A$.)\n",
        "\n",
        "- Every vector $b$ splits into two parts, The part in the column space is $p$. and The perpendicular part is $e. \\; (y = p + e) $\n",
        "\n",
        "- We can find $\\hat{\\theta}$ (best fitting line) by solving the equation $ X^T X  \\hat{\\theta} = X^T y$\n",
        "\n",
        "$$ \\hat{\\theta} = \\begin {bmatrix} \\hat{\\theta_0} \\\\ \\hat{\\theta_1} \\end{bmatrix} \\;\\;\\;\\;\\;\\;\\; \\hat{\\theta} =  (X^T X)^{-1} X^T y $$ \n"
      ]
    },
    {
      "cell_type": "markdown",
      "metadata": {
        "id": "OX49TXu4voHj"
      },
      "source": [
        "## Exercise 1 <a class=\"anchor\" id=\"sec2\"></a>\n"
      ]
    },
    {
      "cell_type": "code",
      "execution_count": null,
      "metadata": {
        "id": "rp8QmAzyvoHk"
      },
      "outputs": [],
      "source": [
        "X = np.array([[1, 1], [1, 2], [1, 4], [1, 5], [1, 7]]) \n",
        "y = np.array([[4], [8], [10], [12], [18]]) "
      ]
    },
    {
      "cell_type": "markdown",
      "metadata": {
        "id": "2NTy97_avoHk"
      },
      "source": [
        "**Question 1:** calculate $\\hat{\\theta}$ for the given data points."
      ]
    },
    {
      "cell_type": "code",
      "execution_count": null,
      "metadata": {
        "tags": [],
        "colab": {
          "base_uri": "https://localhost:8080/"
        },
        "id": "hME2fIWdvoHl",
        "outputId": "10e445c8-312b-43e6-ec67-de106ec9c708"
      },
      "outputs": [
        {
          "output_type": "stream",
          "name": "stdout",
          "text": [
            "[[2.33333333]\n",
            " [2.12280702]]\n"
          ]
        }
      ],
      "source": [
        "from numpy.linalg import inv\n",
        "theta_hat =inv(X.T.dot(X)).dot(X.T.dot(y.reshape(5,1)))\n",
        "print(theta_hat)"
      ]
    },
    {
      "cell_type": "markdown",
      "metadata": {
        "id": "nEJoJD_nvoHl"
      },
      "source": [
        "so the best line that minimizes the overall error is \n",
        "\n",
        "$$h(x_i) = \\hat{\\theta_0} + \\hat{\\theta_1} \\times x_i = 2.33 + 2.12 \\times x_i \\;\\;\\;\\;\\;\\text{(this is the hypothesis function)} \\;\\; \\text{and} \\;\\;  h = X \\hat{\\theta} $$\n",
        "\n",
        "**Question 2:** calculate $h$ (matrix of predicted $y$):"
      ]
    },
    {
      "cell_type": "code",
      "execution_count": null,
      "metadata": {
        "scrolled": false,
        "tags": [],
        "colab": {
          "base_uri": "https://localhost:8080/"
        },
        "id": "pZn94WF5voHl",
        "outputId": "ccbeedb6-20ed-4e80-afd1-b2e045d2cd97"
      },
      "outputs": [
        {
          "output_type": "stream",
          "name": "stdout",
          "text": [
            "[[ 4.45614035]\n",
            " [ 6.57894737]\n",
            " [10.8245614 ]\n",
            " [12.94736842]\n",
            " [17.19298246]]\n"
          ]
        }
      ],
      "source": [
        "h = X.dot(theta_hat)\n",
        "print(h)\n",
        "#h[0], h[1], h[2], h[3] and h[4] are predicted points for y0, y1, y2, y3 and y4 "
      ]
    },
    {
      "cell_type": "code",
      "execution_count": null,
      "metadata": {
        "colab": {
          "base_uri": "https://localhost:8080/",
          "height": 265
        },
        "id": "dCDvbUWXvoHm",
        "outputId": "9916fc28-4a73-4b31-90e9-ec7a7f63484c"
      },
      "outputs": [
        {
          "output_type": "display_data",
          "data": {
            "image/png": "[encoded data removed]",
            "text/plain": [
              "<Figure size 432x288 with 1 Axes>"
            ]
          },
          "metadata": {}
        }
      ],
      "source": [
        "plt.scatter(x, y)\n",
        "plt.scatter(x, h, color = 'black')\n",
        "plt.plot(x, h, color = 'red')\n",
        "plt.show()\n",
        "#red line is the best line for that three points"
      ]
    },
    {
      "cell_type": "markdown",
      "metadata": {
        "id": "wHABEkBTvoHm"
      },
      "source": [
        "A problem with this approach is the matrix inverse that is both computationally expensive and numerically unstable. An alternative approach is to use a matrix decomposition to avoid this operation. We will look at QR decomposition in the following section."
      ]
    },
    {
      "cell_type": "markdown",
      "metadata": {
        "id": "yJhPCEKPvoHm"
      },
      "source": [
        "# Solving the least squares equation via QR Decomposition <a class=\"anchor\" id=\"sec3\"></a>\n",
        "\n",
        "- The QR decomposition (also called the QR factorization) of a matrix is a decomposition of the matrix into an orthogonal matrix and a triangular matrix. \n",
        "$$ A = QR $$\n",
        "where $Q$ is an orthogonal matrix ($Q^T Q = I$) and $R$ is an upper triangular matrix. \n",
        "- $Q$ is a $m*n$ matrix and $R$ is an upper triangle matrix with the size $n * n$"
      ]
    },
    {
      "cell_type": "markdown",
      "metadata": {
        "id": "HOhEe79PvoHn"
      },
      "source": [
        "An Orthogonal Matrix $Q$ with orthonormal columns satisfies $ Q^T Q = I$ :\n",
        "\n",
        "$$Q^T Q = \\begin {bmatrix}  & q_1^T & \\\\  & q_2^T  & \\\\ & q_3^T & \\end{bmatrix} \\begin {bmatrix}  &  & \\\\ q_1 & q_2 & q_3 \\\\ & & \\end{bmatrix} = \n",
        "\\begin {bmatrix} 1 & 0 & 0 \\\\ 0 & 1 & 0 \\\\ 0 & 0 & 1 \\end{bmatrix} = I $$ \n",
        "There are several methods for computing the QR decomposition. One of such method is the Gram-Schmidt process."
      ]
    },
    {
      "cell_type": "markdown",
      "metadata": {
        "id": "a-dtE47dvoHn"
      },
      "source": [
        "### The Gram-Schmidt Process \n",
        "\n",
        "Start with the independent columns of $A$: $a_1, a_2, ..., a_n$. We want to construct orthogonal vectors $u_1, u_2, ..., u_n$. Then we divide $u_1, u_2, ..., u_n$ by their lengths.\n",
        "\n",
        "That produces orthonormal vectors $q_1 = \\frac{u_1}{||u_1||}, q_2 = \\frac{u_2}{||u_2||}, ..., q_n = \\frac{u_n}{||u_n||} $"
      ]
    },
    {
      "cell_type": "markdown",
      "metadata": {
        "id": "PtLVtkX4voHn"
      },
      "source": [
        "\n",
        "Begin by choosing $u_1 = a_1$. This first direction is accepted as it comes.\n",
        "The next direction $u_2$ must be perpendicular to $u_1$. Start with $a_2$ and subtract its projection along $u_1$. This leaves the perpendicular part, which is the orthogonal vector $u_2$:\n",
        "\n",
        "$$ \\text{First Gram-Schmidt step} \\;\\;\\;\\;\\;\\;\\;\\; u_2 = a_2 - \\frac{u_1^T a_2}{u_1^T u_1} u_1.$$\n",
        "\n",
        "so now $u_1$ and $u_2$ are orthogonal.\n",
        "The third direction starts with $a_3$. This is not a combination of $u_1$ and $u_2$ (because $a_3$ is not a combination of $a_1$ and $a_2$). But most likely $a_3$ is not perpendicular to $u_1$ and $u_2$. So subtract off its components in those two directions to get a perpendicular direction $u_3$:\n",
        "\n",
        "$$ \\text{Next Gram-Schmidt step} \\;\\;\\;\\;\\;\\;\\;\\; u_3 = a_3 - \\frac{u_1^T a_3}{u_1^T u_1} u_1 - \\frac{u_2^T a_3}{u_2^T u_2} u_2.$$\n",
        "\n",
        "This is the idea of the Gram-Schmidt process. Subtract from every new\n",
        "vector its projections in the directions already set. That idea is repeated at every step.\n",
        "For the fourth vector $a_4$, we would subtract three projections onto $u_1, u_2, u_3$ to get $u_4$.\n",
        "\n",
        "$$u_x = a_x - \\sum_{i=1}^{x-1} (\\frac{u_i^T . a_x}{u_i^T . u_i})\\; u_i \\;\\;\\;\\;\\; \\text{ for x = 2, ..., n}$$"
      ]
    },
    {
      "cell_type": "markdown",
      "metadata": {
        "id": "EEUOSLMZvoHn"
      },
      "source": [
        "At the end, or immediately when each one is found, divide the orthogonal vectors $u_1, u_2, ..., u_n$ by their lengths. The resulting vectors $q_1, q_2, ..., q_n$ are orthonormal.\n",
        "\n",
        "$$q_x = \\frac{u_x}{||u_x||} \\;\\;\\;\\;\\; \\text{ for x = 1, ..., n}$$\n"
      ]
    },
    {
      "cell_type": "markdown",
      "metadata": {
        "id": "QcqFf-hgvoHn"
      },
      "source": [
        "$$Q = \\begin {bmatrix} q_1 \\;|\\; q_2 \\;|\\; ... \\;|\\; q_n\\end{bmatrix} \\;\\;\\; \\text{q's are columns of Q}$$"
      ]
    },
    {
      "cell_type": "markdown",
      "metadata": {
        "id": "c1e9pqFGvoHo"
      },
      "source": [
        "We started with a matrix $A$ and ended up with a matrix $Q$. How are those matrices related? matrix $R$ connects them, $A = QR$\n",
        "\n",
        "For a $3$by $3$ matrix A: \n",
        "$$ A = \\begin {bmatrix}  &  & \\\\ a_1 & a_2  & a_3 \\\\ & & \\end{bmatrix} \n",
        "= QR\n",
        "= \\begin {bmatrix}  &  & \\\\ q_1 & q_2 & q_3 \\\\ & & \\end{bmatrix} \n",
        "\\begin {bmatrix} q_1^T a_1 & q_1^T a_2 & q_1^T a_3\\\\  & q_2^T a_2 & q_2^T a_3 \\\\ & & q_3^T a_3 \\end{bmatrix} $$"
      ]
    },
    {
      "cell_type": "markdown",
      "metadata": {
        "id": "DF3fiDR-voHo"
      },
      "source": [
        "## Implementing Gram-Schmidt process \n",
        "## Exercise 2 <a class=\"anchor\" id=\"sec4\"></a>\n",
        "**Question 1:** implement the function `qr_gram_schmidt` which takes the matrix $A$ and returns the $Q$ and $R$ using gram schmidt process."
      ]
    },
    {
      "cell_type": "code",
      "execution_count": null,
      "metadata": {
        "tags": [],
        "id": "0JclpbU0voHo"
      },
      "outputs": [],
      "source": [
        "from numpy.linalg import norm\n",
        "def qr_gram_schmidt(A):\n",
        "    row = A.shape[0]\n",
        "    col = A.shape[1]\n",
        "    Q =  np.zeros((row, col))\n",
        "    R =  np.zeros((col, col)) \n",
        "\n",
        "    for j in range(col):\n",
        "        v = A[:,j]\n",
        "        for i in range(j):\n",
        "            R[i,j] =  np.dot(Q[:,i].T , A[:,j])\n",
        "            v = v.squeeze() - (R[i,j] * Q[:,i])\n",
        "        R[j,j] =  np.linalg.norm(v)\n",
        "        Q[:,j] = (v / R[j,j]).squeeze()\n",
        "    return Q, R"
      ]
    },
    {
      "cell_type": "markdown",
      "metadata": {
        "id": "taUExfKvvoHo"
      },
      "source": [
        "- Using QR decomposition, the coefficients can be found as follows:\n",
        "$$ \\hat{\\theta}_{qr} = R^-1 \\; Q^T \\; y$$\n",
        "\n",
        "**Question 2:** calculate $\\hat{\\theta}_{qr}$ for $X$ and $y$ using QR decomposition and `qr_gram_schmidt` function:"
      ]
    },
    {
      "cell_type": "code",
      "execution_count": null,
      "metadata": {
        "tags": [],
        "colab": {
          "base_uri": "https://localhost:8080/"
        },
        "id": "KBujD9M_voHp",
        "outputId": "88db00e6-8c0d-4f27-d7ab-b6ba6be98e1c"
      },
      "outputs": [
        {
          "output_type": "stream",
          "name": "stdout",
          "text": [
            "[[2.33333333]\n",
            " [2.12280702]]\n",
            "[[ 0.4472136  -0.58639547]\n",
            " [ 0.4472136  -0.37696852]\n",
            " [ 0.4472136   0.04188539]\n",
            " [ 0.4472136   0.25131234]\n",
            " [ 0.4472136   0.67016625]]\n",
            "[[2.23606798 8.49705831]\n",
            " [0.         4.77493455]]\n"
          ]
        }
      ],
      "source": [
        "q, r = qr_gram_schmidt(X)\n",
        "theta_hat_qr = inv(r).dot(q.T).dot(y)\n",
        "print(theta_hat_qr)\n",
        "print(q)\n",
        "print(r)"
      ]
    },
    {
      "cell_type": "markdown",
      "metadata": {
        "id": "s9WVKNjyvoHp"
      },
      "source": [
        "Note that we get the same result by using QR decompositon."
      ]
    },
    {
      "cell_type": "markdown",
      "metadata": {
        "id": "UScVU4gjvoHp"
      },
      "source": [
        "# Predicting Medical Cost with Linear regression <a class=\"anchor\" id=\"sec5\"></a>\n"
      ]
    },
    {
      "cell_type": "markdown",
      "metadata": {
        "id": "QWGnC4novoHp"
      },
      "source": [
        "Now we want to build a model to predict medical cost using Linear regression and least square approximation. we use Medical Cost Personal Dataset. this dataset consists of age, sex, bmi, children, smoker and region as __independent variables__ and charges as __dependent variable__.\n",
        "\n",
        "- age: age of primary beneficiary\n",
        "- sex: insurance contractor gender, female, male\n",
        "- bmi: Body mass index\n",
        "- children: Number of children covered by health insurance \n",
        "- smoker: Smoking\n",
        "- region: the beneficiary's residential area in the US, northeast, southeast, southwest, northwest.\n",
        "- charges: Individual medical costs billed by health insurance"
      ]
    },
    {
      "cell_type": "markdown",
      "metadata": {
        "id": "H_WddjVWvoHp"
      },
      "source": [
        "In the previous example (that we tried to fit a line through some points), there was only one independent variable. the hypothesis function we used was as follows:\n",
        "$$ h(x_i) = \\hat{\\theta_0} + \\hat{\\theta_1} x_i : \\;\\;\\;\\;\n",
        "\\begin{bmatrix} 1&x_1\\\\1&x_2\\\\.&.\\\\.&.\\\\1&x_m\\end{bmatrix} \n",
        "\\begin{bmatrix}\\hat{\\theta_0}\\\\\\hat{\\theta_1}\\end{bmatrix} \n",
        "= \\begin{bmatrix} h(x_1)\\\\h(x_2)\\\\.\\\\.\\\\h(x_m)\\end{bmatrix} \n",
        "\\;\\;\\;\\;\\;\\; \\text{($x_i$ is indepedent variable and $y_i$ is dependent variable)} $$\n",
        "\n",
        "($h(x_i)$ is the predicted value of $y_i$)\n",
        "\n",
        "In this dataset we have multiple independent variables, so we use __Multiple linear regression__.\n"
      ]
    },
    {
      "cell_type": "code",
      "execution_count": null,
      "metadata": {
        "id": "FF60yNEBvoHq",
        "colab": {
          "base_uri": "https://localhost:8080/",
          "height": 206
        },
        "outputId": "89d4e571-494e-4b94-94b6-9c01ddde41c5"
      },
      "outputs": [
        {
          "output_type": "execute_result",
          "data": {
            "text/html": [
              "\n",
              "  <div id=\"df-9dbae49f-1c42-4942-a339-e50bc42c835d\">\n",
              "    <div class=\"colab-df-container\">\n",
              "      <div>\n",
              "<style scoped>\n",
              "    .dataframe tbody tr th:only-of-type {\n",
              "        vertical-align: middle;\n",
              "    }\n",
              "\n",
              "    .dataframe tbody tr th {\n",
              "        vertical-align: top;\n",
              "    }\n",
              "\n",
              "    .dataframe thead th {\n",
              "        text-align: right;\n",
              "    }\n",
              "</style>\n",
              "<table border=\"1\" class=\"dataframe\">\n",
              "  <thead>\n",
              "    <tr style=\"text-align: right;\">\n",
              "      <th></th>\n",
              "      <th>age</th>\n",
              "      <th>sex</th>\n",
              "      <th>bmi</th>\n",
              "      <th>children</th>\n",
              "      <th>smoker</th>\n",
              "      <th>region</th>\n",
              "      <th>charges</th>\n",
              "    </tr>\n",
              "  </thead>\n",
              "  <tbody>\n",
              "    <tr>\n",
              "      <th>0</th>\n",
              "      <td>19</td>\n",
              "      <td>female</td>\n",
              "      <td>27.900</td>\n",
              "      <td>0</td>\n",
              "      <td>yes</td>\n",
              "      <td>southwest</td>\n",
              "      <td>16884.92400</td>\n",
              "    </tr>\n",
              "    <tr>\n",
              "      <th>1</th>\n",
              "      <td>18</td>\n",
              "      <td>male</td>\n",
              "      <td>33.770</td>\n",
              "      <td>1</td>\n",
              "      <td>no</td>\n",
              "      <td>southeast</td>\n",
              "      <td>1725.55230</td>\n",
              "    </tr>\n",
              "    <tr>\n",
              "      <th>2</th>\n",
              "      <td>28</td>\n",
              "      <td>male</td>\n",
              "      <td>33.000</td>\n",
              "      <td>3</td>\n",
              "      <td>no</td>\n",
              "      <td>southeast</td>\n",
              "      <td>4449.46200</td>\n",
              "    </tr>\n",
              "    <tr>\n",
              "      <th>3</th>\n",
              "      <td>33</td>\n",
              "      <td>male</td>\n",
              "      <td>22.705</td>\n",
              "      <td>0</td>\n",
              "      <td>no</td>\n",
              "      <td>northwest</td>\n",
              "      <td>21984.47061</td>\n",
              "    </tr>\n",
              "    <tr>\n",
              "      <th>4</th>\n",
              "      <td>32</td>\n",
              "      <td>male</td>\n",
              "      <td>28.880</td>\n",
              "      <td>0</td>\n",
              "      <td>no</td>\n",
              "      <td>northwest</td>\n",
              "      <td>3866.85520</td>\n",
              "    </tr>\n",
              "  </tbody>\n",
              "</table>\n",
              "</div>\n",
              "      <button class=\"colab-df-convert\" onclick=\"convertToInteractive('df-9dbae49f-1c42-4942-a339-e50bc42c835d')\"\n",
              "              title=\"Convert this dataframe to an interactive table.\"\n",
              "              style=\"display:none;\">\n",
              "        \n",
              "  <svg xmlns=\"http://www.w3.org/2000/svg\" height=\"24px\"viewBox=\"0 0 24 24\"\n",
              "       width=\"24px\">\n",
              "    <path d=\"M0 0h24v24H0V0z\" fill=\"none\"/>\n",
              "    <path d=\"M18.56 5.44l.94 2.06.94-2.06 2.06-.94-2.06-.94-.94-2.06-.94 2.06-2.06.94zm-11 1L8.5 8.5l.94-2.06 2.06-.94-2.06-.94L8.5 2.5l-.94 2.06-2.06.94zm10 10l.94 2.06.94-2.06 2.06-.94-2.06-.94-.94-2.06-.94 2.06-2.06.94z\"/><path d=\"M17.41 7.96l-1.37-1.37c-.4-.4-.92-.59-1.43-.59-.52 0-1.04.2-1.43.59L10.3 9.45l-7.72 7.72c-.78.78-.78 2.05 0 2.83L4 21.41c.39.39.9.59 1.41.59.51 0 1.02-.2 1.41-.59l7.78-7.78 2.81-2.81c.8-.78.8-2.07 0-2.86zM5.41 20L4 18.59l7.72-7.72 1.47 1.35L5.41 20z\"/>\n",
              "  </svg>\n",
              "      </button>\n",
              "      \n",
              "  <style>\n",
              "    .colab-df-container {\n",
              "      display:flex;\n",
              "      flex-wrap:wrap;\n",
              "      gap: 12px;\n",
              "    }\n",
              "\n",
              "    .colab-df-convert {\n",
              "      background-color: #E8F0FE;\n",
              "      border: none;\n",
              "      border-radius: 50%;\n",
              "      cursor: pointer;\n",
              "      display: none;\n",
              "      fill: #1967D2;\n",
              "      height: 32px;\n",
              "      padding: 0 0 0 0;\n",
              "      width: 32px;\n",
              "    }\n",
              "\n",
              "    .colab-df-convert:hover {\n",
              "      background-color: #E2EBFA;\n",
              "      box-shadow: 0px 1px 2px rgba(60, 64, 67, 0.3), 0px 1px 3px 1px rgba(60, 64, 67, 0.15);\n",
              "      fill: #174EA6;\n",
              "    }\n",
              "\n",
              "    [theme=dark] .colab-df-convert {\n",
              "      background-color: #3B4455;\n",
              "      fill: #D2E3FC;\n",
              "    }\n",
              "\n",
              "    [theme=dark] .colab-df-convert:hover {\n",
              "      background-color: #434B5C;\n",
              "      box-shadow: 0px 1px 3px 1px rgba(0, 0, 0, 0.15);\n",
              "      filter: drop-shadow(0px 1px 2px rgba(0, 0, 0, 0.3));\n",
              "      fill: #FFFFFF;\n",
              "    }\n",
              "  </style>\n",
              "\n",
              "      <script>\n",
              "        const buttonEl =\n",
              "          document.querySelector('#df-9dbae49f-1c42-4942-a339-e50bc42c835d button.colab-df-convert');\n",
              "        buttonEl.style.display =\n",
              "          google.colab.kernel.accessAllowed ? 'block' : 'none';\n",
              "\n",
              "        async function convertToInteractive(key) {\n",
              "          const element = document.querySelector('#df-9dbae49f-1c42-4942-a339-e50bc42c835d');\n",
              "          const dataTable =\n",
              "            await google.colab.kernel.invokeFunction('convertToInteractive',\n",
              "                                                     [key], {});\n",
              "          if (!dataTable) return;\n",
              "\n",
              "          const docLinkHtml = 'Like what you see? Visit the ' +\n",
              "            '<a target=\"_blank\" href=https://colab.research.google.com/notebooks/data_table.ipynb>data table notebook</a>'\n",
              "            + ' to learn more about interactive tables.';\n",
              "          element.innerHTML = '';\n",
              "          dataTable['output_type'] = 'display_data';\n",
              "          await google.colab.output.renderOutput(dataTable, element);\n",
              "          const docLink = document.createElement('div');\n",
              "          docLink.innerHTML = docLinkHtml;\n",
              "          element.appendChild(docLink);\n",
              "        }\n",
              "      </script>\n",
              "    </div>\n",
              "  </div>\n",
              "  "
            ],
            "text/plain": [
              "   age     sex     bmi  children smoker     region      charges\n",
              "0   19  female  27.900         0    yes  southwest  16884.92400\n",
              "1   18    male  33.770         1     no  southeast   1725.55230\n",
              "2   28    male  33.000         3     no  southeast   4449.46200\n",
              "3   33    male  22.705         0     no  northwest  21984.47061\n",
              "4   32    male  28.880         0     no  northwest   3866.85520"
            ]
          },
          "metadata": {},
          "execution_count": 478
        }
      ],
      "source": [
        "df = pd.read_csv('insurance.csv')\n",
        "df.head()"
      ]
    },
    {
      "cell_type": "code",
      "execution_count": null,
      "metadata": {
        "id": "yV4xV4pMvoHq",
        "colab": {
          "base_uri": "https://localhost:8080/"
        },
        "outputId": "6abbe8cd-ef44-4ef9-bdcb-ea86b69301ba"
      },
      "outputs": [
        {
          "output_type": "execute_result",
          "data": {
            "text/plain": [
              "(1338, 7)"
            ]
          },
          "metadata": {},
          "execution_count": 479
        }
      ],
      "source": [
        "df.shape"
      ]
    },
    {
      "cell_type": "markdown",
      "metadata": {
        "id": "IaXtVSaOvoHq"
      },
      "source": [
        "Looking at the shape of dataset, there are $m=1338$ training examples and $n=7$ variables. Target variable here is __charges__. using multiple linear regression, hypothesis function looks like this: \n",
        "$$h(x_i) = age \\times \\theta_1 + sex \\times \\theta_2 + bmi \\times \\theta_3 + children \\times \\theta_4 + smoker \\times \\theta_5 + region \\times \\theta_6 \\;\\;\\; (\\text{for the $i^{th}$ training example})$$\n",
        "($h(x_i)$ is the predicted value of $i^{th} $training example, $\\theta_1, ..., \\theta_6$ are coefficants of hypothesis function.)"
      ]
    },
    {
      "cell_type": "markdown",
      "metadata": {
        "id": "36w8nUyuvoHq"
      },
      "source": [
        "The $i^{th}$ training example can be represented as:\n",
        "$$x_i =  \\begin{bmatrix} x_{i1}&x_{i2}&...&x_{i6} \\end{bmatrix}=  \\begin{bmatrix} age_{1}&sex_{2}&...&region_{6} \\end{bmatrix}$$\n",
        "now we combine all training examples into single input matrix of size(m, n):\n",
        "$$ \\mathbf{X}= \\left( \\begin{smallmatrix} x_{11} & x_{12} &.&.&.&.& x_{1n}\\\\\n",
        "                                x_{21} & x_{22} &.&.&.&.& x_{2n}\\\\\n",
        "                                x_{31} & x_{32} &.&.&.&.& x_{3n}\\\\\n",
        "                                .&.&.&. &.&.&.& \\\\\n",
        "                                .&.&.&. &.&.&.& \\\\\n",
        "                                x_{m1} & x_{m2} &.&.&.&.&. x_{mn}\\\\\n",
        "                                \\end{smallmatrix} \\right)_{(m,n)}$$\n",
        "We represent coefficients of function and dependent variable in vector form as  \n",
        "$$\\theta = \\left (\\begin{matrix} \\theta_1 \\\\ \\theta_2 \\\\ .\\\\.\\\\ \\theta_6 \\end {matrix}\\right)\\; , \\;\\;\n",
        "\\mathbf{ y } = \\left (\\begin{matrix} y_1\\\\ y_2\\\\. \\\\. \\\\ y_i \\\\. \\\\. \\\\ y_m \\end{matrix} \\right)$$\n",
        "\n",
        "So we represent hypothesis function in vectorize form $$\\mathbf{ h_\\theta{(x)} = X\\theta}$$"
      ]
    },
    {
      "cell_type": "markdown",
      "metadata": {
        "id": "SNM1qSnTvoHr"
      },
      "source": [
        "## Data Preprocessing<a class=\"anchor\" id=\"sec5_1\"></a>\n",
        "\n",
        "The hypothesis function can't work with categorical data directly, categorical data must be converted to numbers.\n",
        "\n",
        "__Label encoding__ is a popular encoding technique for handling categorical variables. In this technique, each label is assigned a unique integer based on alphabetical ordering.\n",
        "\n",
        "__One hot encoding__ is a representation of categorical variable as binary vectors.It allows the representation of categorical data to be more expresive. This first requires that the categorical values be mapped to integer values, that is label encoding. Then, each integer value is represented as a binary vector that is all zero values except the index of the integer, which is marked with a 1.\n",
        "\n",
        "- for 'sex' and 'smoker' column we will apply Label Encoding as there are only 2 catagories\n",
        "- for 'region' we will apply OneHot Encoding as there are more than 2 catagories"
      ]
    },
    {
      "cell_type": "code",
      "execution_count": null,
      "metadata": {
        "id": "8c0m7btPvoHr",
        "colab": {
          "base_uri": "https://localhost:8080/",
          "height": 206
        },
        "outputId": "03935e07-cffb-4405-8486-946a018b790a"
      },
      "outputs": [
        {
          "output_type": "execute_result",
          "data": {
            "text/html": [
              "\n",
              "  <div id=\"df-d43b01cd-bdc4-4cd4-a1f8-a052e6467729\">\n",
              "    <div class=\"colab-df-container\">\n",
              "      <div>\n",
              "<style scoped>\n",
              "    .dataframe tbody tr th:only-of-type {\n",
              "        vertical-align: middle;\n",
              "    }\n",
              "\n",
              "    .dataframe tbody tr th {\n",
              "        vertical-align: top;\n",
              "    }\n",
              "\n",
              "    .dataframe thead th {\n",
              "        text-align: right;\n",
              "    }\n",
              "</style>\n",
              "<table border=\"1\" class=\"dataframe\">\n",
              "  <thead>\n",
              "    <tr style=\"text-align: right;\">\n",
              "      <th></th>\n",
              "      <th>age</th>\n",
              "      <th>sex</th>\n",
              "      <th>bmi</th>\n",
              "      <th>children</th>\n",
              "      <th>smoker</th>\n",
              "      <th>charges</th>\n",
              "      <th>IsIn_northeast</th>\n",
              "      <th>IsIn_northwest</th>\n",
              "      <th>IsIn_southeast</th>\n",
              "      <th>IsIn_southwest</th>\n",
              "    </tr>\n",
              "  </thead>\n",
              "  <tbody>\n",
              "    <tr>\n",
              "      <th>0</th>\n",
              "      <td>19</td>\n",
              "      <td>0</td>\n",
              "      <td>27.900</td>\n",
              "      <td>0</td>\n",
              "      <td>1</td>\n",
              "      <td>16884.92400</td>\n",
              "      <td>0</td>\n",
              "      <td>0</td>\n",
              "      <td>0</td>\n",
              "      <td>1</td>\n",
              "    </tr>\n",
              "    <tr>\n",
              "      <th>1</th>\n",
              "      <td>18</td>\n",
              "      <td>1</td>\n",
              "      <td>33.770</td>\n",
              "      <td>1</td>\n",
              "      <td>0</td>\n",
              "      <td>1725.55230</td>\n",
              "      <td>0</td>\n",
              "      <td>0</td>\n",
              "      <td>1</td>\n",
              "      <td>0</td>\n",
              "    </tr>\n",
              "    <tr>\n",
              "      <th>2</th>\n",
              "      <td>28</td>\n",
              "      <td>1</td>\n",
              "      <td>33.000</td>\n",
              "      <td>3</td>\n",
              "      <td>0</td>\n",
              "      <td>4449.46200</td>\n",
              "      <td>0</td>\n",
              "      <td>0</td>\n",
              "      <td>1</td>\n",
              "      <td>0</td>\n",
              "    </tr>\n",
              "    <tr>\n",
              "      <th>3</th>\n",
              "      <td>33</td>\n",
              "      <td>1</td>\n",
              "      <td>22.705</td>\n",
              "      <td>0</td>\n",
              "      <td>0</td>\n",
              "      <td>21984.47061</td>\n",
              "      <td>0</td>\n",
              "      <td>1</td>\n",
              "      <td>0</td>\n",
              "      <td>0</td>\n",
              "    </tr>\n",
              "    <tr>\n",
              "      <th>4</th>\n",
              "      <td>32</td>\n",
              "      <td>1</td>\n",
              "      <td>28.880</td>\n",
              "      <td>0</td>\n",
              "      <td>0</td>\n",
              "      <td>3866.85520</td>\n",
              "      <td>0</td>\n",
              "      <td>1</td>\n",
              "      <td>0</td>\n",
              "      <td>0</td>\n",
              "    </tr>\n",
              "  </tbody>\n",
              "</table>\n",
              "</div>\n",
              "      <button class=\"colab-df-convert\" onclick=\"convertToInteractive('df-d43b01cd-bdc4-4cd4-a1f8-a052e6467729')\"\n",
              "              title=\"Convert this dataframe to an interactive table.\"\n",
              "              style=\"display:none;\">\n",
              "        \n",
              "  <svg xmlns=\"http://www.w3.org/2000/svg\" height=\"24px\"viewBox=\"0 0 24 24\"\n",
              "       width=\"24px\">\n",
              "    <path d=\"M0 0h24v24H0V0z\" fill=\"none\"/>\n",
              "    <path d=\"M18.56 5.44l.94 2.06.94-2.06 2.06-.94-2.06-.94-.94-2.06-.94 2.06-2.06.94zm-11 1L8.5 8.5l.94-2.06 2.06-.94-2.06-.94L8.5 2.5l-.94 2.06-2.06.94zm10 10l.94 2.06.94-2.06 2.06-.94-2.06-.94-.94-2.06-.94 2.06-2.06.94z\"/><path d=\"M17.41 7.96l-1.37-1.37c-.4-.4-.92-.59-1.43-.59-.52 0-1.04.2-1.43.59L10.3 9.45l-7.72 7.72c-.78.78-.78 2.05 0 2.83L4 21.41c.39.39.9.59 1.41.59.51 0 1.02-.2 1.41-.59l7.78-7.78 2.81-2.81c.8-.78.8-2.07 0-2.86zM5.41 20L4 18.59l7.72-7.72 1.47 1.35L5.41 20z\"/>\n",
              "  </svg>\n",
              "      </button>\n",
              "      \n",
              "  <style>\n",
              "    .colab-df-container {\n",
              "      display:flex;\n",
              "      flex-wrap:wrap;\n",
              "      gap: 12px;\n",
              "    }\n",
              "\n",
              "    .colab-df-convert {\n",
              "      background-color: #E8F0FE;\n",
              "      border: none;\n",
              "      border-radius: 50%;\n",
              "      cursor: pointer;\n",
              "      display: none;\n",
              "      fill: #1967D2;\n",
              "      height: 32px;\n",
              "      padding: 0 0 0 0;\n",
              "      width: 32px;\n",
              "    }\n",
              "\n",
              "    .colab-df-convert:hover {\n",
              "      background-color: #E2EBFA;\n",
              "      box-shadow: 0px 1px 2px rgba(60, 64, 67, 0.3), 0px 1px 3px 1px rgba(60, 64, 67, 0.15);\n",
              "      fill: #174EA6;\n",
              "    }\n",
              "\n",
              "    [theme=dark] .colab-df-convert {\n",
              "      background-color: #3B4455;\n",
              "      fill: #D2E3FC;\n",
              "    }\n",
              "\n",
              "    [theme=dark] .colab-df-convert:hover {\n",
              "      background-color: #434B5C;\n",
              "      box-shadow: 0px 1px 3px 1px rgba(0, 0, 0, 0.15);\n",
              "      filter: drop-shadow(0px 1px 2px rgba(0, 0, 0, 0.3));\n",
              "      fill: #FFFFFF;\n",
              "    }\n",
              "  </style>\n",
              "\n",
              "      <script>\n",
              "        const buttonEl =\n",
              "          document.querySelector('#df-d43b01cd-bdc4-4cd4-a1f8-a052e6467729 button.colab-df-convert');\n",
              "        buttonEl.style.display =\n",
              "          google.colab.kernel.accessAllowed ? 'block' : 'none';\n",
              "\n",
              "        async function convertToInteractive(key) {\n",
              "          const element = document.querySelector('#df-d43b01cd-bdc4-4cd4-a1f8-a052e6467729');\n",
              "          const dataTable =\n",
              "            await google.colab.kernel.invokeFunction('convertToInteractive',\n",
              "                                                     [key], {});\n",
              "          if (!dataTable) return;\n",
              "\n",
              "          const docLinkHtml = 'Like what you see? Visit the ' +\n",
              "            '<a target=\"_blank\" href=https://colab.research.google.com/notebooks/data_table.ipynb>data table notebook</a>'\n",
              "            + ' to learn more about interactive tables.';\n",
              "          element.innerHTML = '';\n",
              "          dataTable['output_type'] = 'display_data';\n",
              "          await google.colab.output.renderOutput(dataTable, element);\n",
              "          const docLink = document.createElement('div');\n",
              "          docLink.innerHTML = docLinkHtml;\n",
              "          element.appendChild(docLink);\n",
              "        }\n",
              "      </script>\n",
              "    </div>\n",
              "  </div>\n",
              "  "
            ],
            "text/plain": [
              "   age  sex     bmi  ...  IsIn_northwest  IsIn_southeast  IsIn_southwest\n",
              "0   19    0  27.900  ...               0               0               1\n",
              "1   18    1  33.770  ...               0               1               0\n",
              "2   28    1  33.000  ...               0               1               0\n",
              "3   33    1  22.705  ...               1               0               0\n",
              "4   32    1  28.880  ...               1               0               0\n",
              "\n",
              "[5 rows x 10 columns]"
            ]
          },
          "metadata": {},
          "execution_count": 480
        }
      ],
      "source": [
        "#By using pandas get_dummies function we can apply Label encoding and OneHot encoding in line of code. \n",
        "\n",
        "# Label Encoding:\n",
        "from sklearn.preprocessing import LabelEncoder\n",
        "le = LabelEncoder()\n",
        "df['sex'] = le.fit_transform(df['sex'])\n",
        "df['smoker'] = le.fit_transform(df['smoker'])\n",
        "\n",
        "# OneHot Encoding:\n",
        "df_encode = pd.get_dummies(data = df, prefix = 'IsIn', prefix_sep='_',\n",
        "               columns = ['region'],\n",
        "               drop_first =False,\n",
        "              dtype='int8')\n",
        "\n",
        "df_encode.head()"
      ]
    },
    {
      "cell_type": "markdown",
      "metadata": {
        "id": "24w6wpQivoHr"
      },
      "source": [
        "since we used one hot encoding, some dummy variables were added to the indpendent variables. Now the hypothesis function is as follows: \n",
        "\n",
        "$$h(x_i) =  age .\\theta_1 + sex .\\theta_2 + bmi  .\\theta_3 + children . \\theta_4 + smoker .\\theta_5 + \\\\\n",
        "\\text{IsIn_northeast} .\\theta_6 + \\text{IsIn_northwest} .\\theta_7 + \\text{IsIn_southeast} . \\theta_8 + \\text{IsIn_southwest} . \\theta_9 $$"
      ]
    },
    {
      "cell_type": "markdown",
      "metadata": {
        "id": "pS667hujvoHr"
      },
      "source": [
        "Now that all inputs are numeric, we begin to build our model.\n",
        "## Model building<a class=\"anchor\" id=\"sec5_2\"></a>\n",
        "\n",
        "First we have to build the following matrices:\n",
        "$$h_{(x)} =X\\theta \\;\\; \\rightarrow \\;\\;\\;\n",
        "\\begin{bmatrix}\n",
        "x_{11}&x_{12}&...&x_{19}\\\\\n",
        "x_{21}&x_{22}&...&x_{29}\\\\\n",
        ".&.&...&.\\\\\n",
        "x_{m1}&x_{m2}&...&x_{m9}\\\\\n",
        "\\end{bmatrix} \\;\\;\n",
        "\\begin{bmatrix}\\theta_1\\\\\\theta_2\\\\\\theta_3\\\\\\theta_4\\\\\\theta_5\\\\\\theta_6\\\\\\theta_7\\\\\\theta_8\\\\\\theta_9\\end{bmatrix}\n",
        "= \\begin{bmatrix} h(x_1)\\\\h(x_2)\\\\.\\\\h(x_m)\\end{bmatrix} \\;\\;,\\;\\; \n",
        "\\mathbf{ y } = \\begin{bmatrix} y_1\\\\y_2\\\\.\\\\y_m\\end{bmatrix}\n",
        "$$\n",
        "\n"
      ]
    },
    {
      "cell_type": "markdown",
      "metadata": {
        "id": "vFyuJroXvoHs"
      },
      "source": [
        "_Type your answer here, replacing this text._"
      ]
    },
    {
      "cell_type": "code",
      "execution_count": null,
      "metadata": {
        "tags": [],
        "id": "YHHOkOhKvoHs",
        "colab": {
          "base_uri": "https://localhost:8080/"
        },
        "outputId": "0b02e6aa-b77f-4dc7-f9f5-7906277748d5"
      },
      "outputs": [
        {
          "output_type": "stream",
          "name": "stdout",
          "text": [
            "[[19.    0.   27.9  ...  0.    0.    1.  ]\n",
            " [18.    1.   33.77 ...  0.    1.    0.  ]\n",
            " [28.    1.   33.   ...  0.    1.    0.  ]\n",
            " ...\n",
            " [18.    0.   36.85 ...  0.    1.    0.  ]\n",
            " [21.    0.   25.8  ...  0.    0.    1.  ]\n",
            " [61.    0.   29.07 ...  1.    0.    0.  ]]\n",
            "[16884.924   1725.5523  4449.462  ...  1629.8335  2007.945  29141.3603]\n"
          ]
        }
      ],
      "source": [
        "#X = df_encode.iloc\n",
        "X=df_encode.drop('charges',axis=1).values\n",
        "y = df_encode['charges'].values.T\n",
        "\n",
        "print(X)\n",
        "print(y)\n"
      ]
    },
    {
      "cell_type": "markdown",
      "metadata": {
        "id": "D5ns6kRkvoHs"
      },
      "source": [
        "### Spliting data \n",
        "in order to evaluate our model, we should split the data into training examples and test examples: "
      ]
    },
    {
      "cell_type": "code",
      "execution_count": null,
      "metadata": {
        "id": "94qTD4kNvoHs",
        "colab": {
          "base_uri": "https://localhost:8080/"
        },
        "outputId": "f4e9a551-17af-4bd8-b318-7eda1c04a4d4"
      },
      "outputs": [
        {
          "output_type": "execute_result",
          "data": {
            "text/plain": [
              "((1070, 9), (268, 9))"
            ]
          },
          "metadata": {},
          "execution_count": 482
        }
      ],
      "source": [
        "from sklearn.model_selection import train_test_split\n",
        "X_train, X_test, y_train, y_test = train_test_split(X, y, test_size=0.2, random_state=11)\n",
        "\n",
        "\n",
        "X_train.shape, X_test.shape"
      ]
    },
    {
      "cell_type": "markdown",
      "metadata": {
        "id": "2D93Tus_voHs"
      },
      "source": [
        "## Training the Model<a class=\"anchor\" id=\"sec5_3\"></a>\n",
        "\n",
        "We want to find vector of coefficients ($\\theta$), then use the coefficients to predict charges ($h(x)$)."
      ]
    },
    {
      "cell_type": "markdown",
      "metadata": {
        "id": "vWUxcUrZvoHt"
      },
      "source": [
        "## Exercise 3<a class=\"anchor\" id=\"sec5_4\"></a>\n",
        "\n",
        "Using QR decomposition, the coefficients can be found as follows:\n",
        "$$ \\theta = R^-1 \\; Q^T \\; y$$\n",
        "\n",
        "**Question 1:** calculate $Q$ and $R$ using the `qr_gram_schmidt` function, then calculate $\\theta$:"
      ]
    },
    {
      "cell_type": "code",
      "execution_count": null,
      "metadata": {
        "tags": [],
        "id": "rpL-4auLvoHt",
        "colab": {
          "base_uri": "https://localhost:8080/"
        },
        "outputId": "e44c115a-8603-41d3-95be-10cb44ab2888"
      },
      "outputs": [
        {
          "output_type": "stream",
          "name": "stdout",
          "text": [
            "[[50.     1.    32.205 ...  1.     0.     0.   ]\n",
            " [24.     0.    27.6   ...  0.     0.     1.   ]\n",
            " [48.     1.    29.7   ...  0.     1.     0.   ]\n",
            " ...\n",
            " [46.     1.    25.745 ...  1.     0.     0.   ]\n",
            " [55.     1.    32.67  ...  0.     1.     0.   ]\n",
            " [37.     1.    29.8   ...  0.     0.     1.   ]]\n",
            "[[ 0.03653521  0.02498268 -0.01517227 ...  0.05040734 -0.00442513\n",
            "  -0.02155714]\n",
            " [ 0.0175369  -0.01573214  0.03546665 ... -0.01384171 -0.03692243\n",
            "   0.05275169]\n",
            " [ 0.0350738   0.02629369 -0.01870042 ... -0.02189268  0.04566492\n",
            "   0.01131   ]\n",
            " ...\n",
            " [ 0.03361239  0.0276047  -0.02627864 ...  0.04915539  0.00651202\n",
            "  -0.00060123]\n",
            " [ 0.04018873  0.02170515 -0.02254518 ... -0.02585404  0.04219796\n",
            "  -0.0096379 ]\n",
            " [ 0.02703605  0.03350425  0.0006567  ... -0.01915661 -0.04009294\n",
            "   0.02546968]]\n",
            "[[ 1.36854302e+03  1.55318464e+01  9.52130269e+02  3.33851397e+01\n",
            "   6.24094374e+00  7.34138412e+00  7.24785399e+00  8.43451746e+00\n",
            "   7.74765560e+00]\n",
            " [ 0.00000000e+00  1.73136289e+01  1.14106286e+02  3.49245888e+00\n",
            "   1.62107092e+00  8.64911077e-01  6.02268018e-01  9.81675789e-01\n",
            "   1.19354546e+00]\n",
            " [ 0.00000000e+00  0.00000000e+00  3.58018668e+02  8.41168817e+00\n",
            "   1.82578237e+00  1.26403792e+00  1.18705055e+00  4.21289553e+00\n",
            "   2.03294301e+00]\n",
            " [ 0.00000000e+00  0.00000000e+00  0.00000000e+00  3.92106960e+01\n",
            "   3.98508243e-01  2.35994437e-01  6.61576785e-01 -7.51161616e-01\n",
            "   6.13979003e-01]\n",
            " [ 0.00000000e+00  0.00000000e+00  0.00000000e+00  0.00000000e+00\n",
            "   1.32638780e+01  1.79347900e-01 -4.83047242e-02  7.82335202e-01\n",
            "  -3.95351326e-01]\n",
            " [ 0.00000000e+00  0.00000000e+00  0.00000000e+00  0.00000000e+00\n",
            "   0.00000000e+00  1.42010689e+01 -3.89957481e+00 -4.79248395e+00\n",
            "  -4.26408281e+00]\n",
            " [ 0.00000000e+00  0.00000000e+00  0.00000000e+00  0.00000000e+00\n",
            "   0.00000000e+00  0.00000000e+00  1.36033119e+01 -6.23952545e+00\n",
            "  -5.61181856e+00]\n",
            " [ 0.00000000e+00  0.00000000e+00  0.00000000e+00  0.00000000e+00\n",
            "   0.00000000e+00  0.00000000e+00  0.00000000e+00  1.15788975e+01\n",
            "  -1.12069501e+01]\n",
            " [ 0.00000000e+00  0.00000000e+00  0.00000000e+00  0.00000000e+00\n",
            "   0.00000000e+00  0.00000000e+00  0.00000000e+00  0.00000000e+00\n",
            "   5.34906643e+00]]\n",
            "[   264.57591084   -393.34488293    343.7571095     541.36367171\n",
            "  23556.99297449 -12204.22950583 -12666.00158306 -13253.12545085\n",
            " -13270.34058322]\n"
          ]
        }
      ],
      "source": [
        "Q, R =qr_gram_schmidt(X_train)\n",
        "from numpy.linalg import inv\n",
        "theta  = inv(R).dot(Q.T).dot(y_train)\n",
        "print(X_train)\n",
        "print(Q)\n",
        "print(R)\n",
        "print(theta)"
      ]
    },
    {
      "cell_type": "markdown",
      "metadata": {
        "id": "RdtEO2tRvoHt"
      },
      "source": [
        "#### Prediction from our Model"
      ]
    },
    {
      "cell_type": "markdown",
      "metadata": {
        "id": "-JSYEuwxvoHt"
      },
      "source": [
        "now that we have $\\theta$, using our hypothesis function we can predict charges:\n",
        "$$h(x) = \\mathbf{X} \\theta $$"
      ]
    },
    {
      "cell_type": "markdown",
      "metadata": {
        "id": "vwOLg43GvoHt"
      },
      "source": [
        "**Question 2:** calculate predicted charges both for training data and testing data:"
      ]
    },
    {
      "cell_type": "code",
      "execution_count": null,
      "metadata": {
        "tags": [],
        "id": "hu9vHdlGvoHu",
        "colab": {
          "base_uri": "https://localhost:8080/"
        },
        "outputId": "cb04d459-c7f1-4360-badd-ed4edcb00912"
      },
      "outputs": [
        {
          "output_type": "stream",
          "name": "stdout",
          "text": [
            "(268,)\n"
          ]
        }
      ],
      "source": [
        "#y_train_pred is the hypothesis function prediction of training examples\n",
        "y_train_pred = X_train.dot(theta)\n",
        "#y_test_pred is the hypothesis function prediction of test examples\n",
        "y_test_pred  = X_test.dot(theta)\n",
        "print(y_test.shape)"
      ]
    },
    {
      "cell_type": "code",
      "execution_count": null,
      "metadata": {
        "scrolled": false,
        "id": "Cr25qN0WvoHu",
        "colab": {
          "base_uri": "https://localhost:8080/",
          "height": 425
        },
        "outputId": "b438c47f-4096-4317-c51d-9f8faceb2120"
      },
      "outputs": [
        {
          "output_type": "execute_result",
          "data": {
            "text/plain": [
              "Text(0.5, 0, 'Index')"
            ]
          },
          "metadata": {},
          "execution_count": 485
        },
        {
          "output_type": "display_data",
          "data": {
            "image/png": "[encoded data removed]",
            "text/plain": [
              "<Figure size 1080x432 with 1 Axes>"
            ]
          },
          "metadata": {}
        }
      ],
      "source": [
        "import seaborn as sns\n",
        "plt.style.use('ggplot')\n",
        "fig, ax=plt.subplots(figsize=(15,6))\n",
        "sns.lineplot(x=np.arange(len(y_test)) , y=y_test, label='Actuals',color='blue',ax=ax)\n",
        "sns.lineplot(x=np.arange(len(y_test)), y=y_test_pred, label='Predictions',color='red',ax=ax)\n",
        "ax.set_title('Charges: Actuals vs Predictions')\n",
        "ax.set_ylabel('Charges')\n",
        "ax.set_xlabel('Index')"
      ]
    },
    {
      "cell_type": "markdown",
      "metadata": {
        "id": "E20vfnZOvoHu"
      },
      "source": [
        "# Model Evaluation<a class=\"anchor\" id=\"sec5_5\"></a>\n",
        "\n",
        "We predicted value for charges by using our model coefficients for test data set. Now we will compare the predicted value with actual value in test set. \n",
        "\n",
        "$\\mathbf{R^2}$ is statistical measure of how close data are to the fitted regression line. $\\mathbf{R^2}$ is always between 0 to 100%. 0% indicates that model explains none of the variability of the response data around it's mean. 100% indicates that model explains all the variablity of the response data around the mean.\n",
        "\n",
        "$$\\mathbf{R^2 = 1 - \\frac{SSE}{SST}}$$\n",
        "**SSE = Sum of Square Error**  \n",
        "**SST = Sum of Square Total**  \n",
        "$$\\mathbf{SSE = \\sum_{i=1}^{m}(h(x_i) - y_i)^2}$$\n",
        "$$\\mathbf{SST = \\sum_{i=1}^{m}(h(x_i) - \\bar{y}_i)^2} \\;\\;\\; \\text{($\\mathbf{\\bar{y}}$ is mean value of $\\mathbf{y}$)}$$\n"
      ]
    },
    {
      "cell_type": "markdown",
      "metadata": {
        "id": "DiNH7LI2voHu"
      },
      "source": [
        "## Exercise 4: <a class=\"anchor\" id=\"sec5_6\"></a>\n"
      ]
    },
    {
      "cell_type": "markdown",
      "metadata": {
        "id": "r6ZvQKpmvoHu"
      },
      "source": [
        "**Question 1:** calculate $R^2$ score of testing data using $\\mathbf{R^2 = 1 - \\frac{SSE}{SST}}$: "
      ]
    },
    {
      "cell_type": "code",
      "execution_count": null,
      "metadata": {
        "tags": [],
        "id": "09Fj7Hh6voHv",
        "colab": {
          "base_uri": "https://localhost:8080/"
        },
        "outputId": "e988524a-56a1-4ba8-84e6-056c9e98964f"
      },
      "outputs": [
        {
          "output_type": "stream",
          "name": "stdout",
          "text": [
            "0.7353952527860419\n"
          ]
        }
      ],
      "source": [
        "sse_test_data = np.sum((y_test_pred-y_test)**2)\n",
        "sst_test_data = np.sum((y_test_pred-y_test.mean())**2)\n",
        "R_square_test_data = 1 - sse_test_data / sst_test_data\n",
        "\n",
        "print(R_square_test_data)"
      ]
    },
    {
      "cell_type": "markdown",
      "metadata": {
        "id": "yf-mQJEIvoHv"
      },
      "source": [
        "A $R^2$ score above 0.70 for our model is good enough for purpose of this homework and it fits our data test very well."
      ]
    },
    {
      "cell_type": "markdown",
      "metadata": {
        "id": "qH5hPP_XvoHv"
      },
      "source": [
        "## Overfitting\n",
        "A concern with multiple regression is overfitting; with a lot of predictors and a\n",
        "limited number of samples, random sampling fluctuations will allow some linear\n",
        "combination of the predictors to match the predictand perfectly over the limited\n",
        "samples we have, but the correlations will fall apart for a different set of samples.\n",
        "\n",
        "we can calculate $R^2$ score of training data set and compare it to $R^2$ score of testing data set and check if overfitting happens:"
      ]
    },
    {
      "cell_type": "code",
      "execution_count": null,
      "metadata": {
        "tags": [],
        "id": "NX3hUeyxvoHv",
        "colab": {
          "base_uri": "https://localhost:8080/"
        },
        "outputId": "d554fb48-1cce-4323-d7c7-9edadebb4992"
      },
      "outputs": [
        {
          "output_type": "stream",
          "name": "stdout",
          "text": [
            "0.646823687914824\n",
            "0.7353952527860419\n"
          ]
        }
      ],
      "source": [
        "sse_train_data = np.sum((y_train_pred-y_train)**2)\n",
        "sst_train_data =np.sum((y_train_pred-y_train.mean())**2)\n",
        "R_square_train_data = 1- sse_train_data /sst_train_data\n",
        "\n",
        "print(R_square_train_data)\n",
        "print(R_square_test_data)"
      ]
    },
    {
      "cell_type": "markdown",
      "metadata": {
        "id": "z2uGgkb7voHv"
      },
      "source": [
        "(Difference between $R^2$ score of training and testing data should not be drastic and overfitting should not happen)"
      ]
    },
    {
      "cell_type": "markdown",
      "metadata": {
        "id": "_FARFNPvvoHw"
      },
      "source": [
        "## Optional Excersice: <a class=\"anchor\" id=\"sec6\"></a>\n",
        "\n",
        "\n",
        "students are welcome to use other regression techniques to improve performance and build a model for this data set that predicts **Charges** more accurately."
      ]
    },
    {
      "cell_type": "code",
      "execution_count": null,
      "metadata": {
        "id": "CVpc_yRovoHw"
      },
      "outputs": [],
      "source": [
        ""
      ]
    },
    {
      "cell_type": "markdown",
      "metadata": {
        "id": "w2mCuPpgvoHw"
      },
      "source": [
        "> This document was compiled, gathered and coded by the teaching assistant team and may be used only for educational purposes. The authors would like to thank the many projects and educational material that made their source code freely available on the internet, especially otter-grader that made the generation and sanitization of the notebook easier."
      ]
    }
  ],
  "metadata": {
    "kernelspec": {
      "display_name": "Python 3",
      "language": "python",
      "name": "python3"
    },
    "language_info": {
      "codemirror_mode": {
        "name": "ipython",
        "version": 3
      },
      "file_extension": ".py",
      "mimetype": "text/x-python",
      "name": "python",
      "nbconvert_exporter": "python",
      "pygments_lexer": "ipython3",
      "version": "3.7.6"
    },
    "colab": {
      "name": "9812762781-sara_Ghavampour-Lab#02.ipynb",
      "provenance": [],
      "collapsed_sections": [],
      "include_colab_link": true
    }
  },
  "nbformat": 4,
  "nbformat_minor": 0
}